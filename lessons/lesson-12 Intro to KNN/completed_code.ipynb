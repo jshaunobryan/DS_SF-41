{
 "cells": [
  {
   "cell_type": "code",
   "execution_count": 51,
   "metadata": {},
   "outputs": [
    {
     "name": "stdout",
     "output_type": "stream",
     "text": [
      "0.885\n"
     ]
    }
   ],
   "source": [
    "from sklearn import datasets, metrics\n",
    "from sklearn.neighbors import KNeighborsClassifier\n",
    "\n",
    "import pandas as pd\n",
    "import numpy as np\n",
    "\n",
    "%matplotlib inline\n",
    "\n",
    "X, y = datasets.make_classification(\n",
    "    n_samples=1000,\n",
    "    n_features=20,\n",
    "    n_informative=5,\n",
    "    weights=[0.3, 0.7],\n",
    ")\n",
    "\n",
    "# n_neighbors is our option in KNN. We'll tune this value to attempt to improve our prediction.\n",
    "cls = KNeighborsClassifier(n_neighbors=5, weights='uniform')\n",
    "cls.fit(X, y)\n",
    "\n",
    "print cls.score(X, y)"
   ]
  },
  {
   "cell_type": "code",
   "execution_count": 65,
   "metadata": {},
   "outputs": [],
   "source": [
    "binom = pd.Series(np.random.binomial(n=1000000, p=0.7, size=10000))"
   ]
  },
  {
   "cell_type": "code",
   "execution_count": 70,
   "metadata": {},
   "outputs": [
    {
     "data": {
      "text/plain": [
       "0       0.582597\n",
       "1       0.230052\n",
       "2       0.788431\n",
       "3       0.210345\n",
       "4      -0.527592\n",
       "5       0.816898\n",
       "6       0.251949\n",
       "7      -0.258256\n",
       "8       0.413989\n",
       "9       0.050495\n",
       "10     -0.902034\n",
       "11      1.044629\n",
       "12     -0.674303\n",
       "13     -0.838532\n",
       "14     -0.358983\n",
       "15      1.075285\n",
       "16     -0.061181\n",
       "17      1.942415\n",
       "18      0.560700\n",
       "19      1.813221\n",
       "20      0.856313\n",
       "21      0.251949\n",
       "22      0.589167\n",
       "23      0.065823\n",
       "24      1.197909\n",
       "25      0.273847\n",
       "26     -1.101299\n",
       "27      0.153412\n",
       "28     -1.064074\n",
       "29      0.273847\n",
       "          ...   \n",
       "9970   -0.236359\n",
       "9971   -0.637078\n",
       "9972    0.405230\n",
       "9973   -1.053125\n",
       "9974    0.144653\n",
       "9975    0.856313\n",
       "9976   -0.153149\n",
       "9977   -0.772841\n",
       "9978   -0.897655\n",
       "9979    0.459973\n",
       "9980    0.738068\n",
       "9981   -0.074319\n",
       "9982    0.906676\n",
       "9983   -0.869188\n",
       "9984   -0.507884\n",
       "9985    0.845364\n",
       "9986    0.216914\n",
       "9987    2.400067\n",
       "9988    1.386226\n",
       "9989    0.357056\n",
       "9990    0.593546\n",
       "9991   -0.468469\n",
       "9992   -0.481607\n",
       "9993   -0.634888\n",
       "9994   -0.446572\n",
       "9995    1.005214\n",
       "9996   -0.450951\n",
       "9997   -0.739995\n",
       "9998   -0.262635\n",
       "9999   -1.263338\n",
       "Length: 10000, dtype: float64"
      ]
     },
     "execution_count": 70,
     "metadata": {},
     "output_type": "execute_result"
    }
   ],
   "source": [
    "# Normalization of one feature\n",
    "feature = \n",
    "mu = binom.mean()\n",
    "sigma = binom.std()\n",
    "df['normalized'] = binom.map(lambda x: (x - mu) / sigma)"
   ]
  },
  {
   "cell_type": "code",
   "execution_count": null,
   "metadata": {
    "collapsed": true
   },
   "outputs": [],
   "source": []
  }
 ],
 "metadata": {
  "kernelspec": {
   "display_name": "Python 2",
   "language": "python",
   "name": "python2"
  },
  "language_info": {
   "codemirror_mode": {
    "name": "ipython",
    "version": 2
   },
   "file_extension": ".py",
   "mimetype": "text/x-python",
   "name": "python",
   "nbconvert_exporter": "python",
   "pygments_lexer": "ipython2",
   "version": "2.7.13"
  }
 },
 "nbformat": 4,
 "nbformat_minor": 2
}
