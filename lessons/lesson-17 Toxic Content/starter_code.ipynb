{
 "cells": [
  {
   "cell_type": "code",
   "execution_count": 2,
   "metadata": {
    "collapsed": true
   },
   "outputs": [],
   "source": [
    "import pandas as pd\n",
    "import numpy as np"
   ]
  },
  {
   "cell_type": "markdown",
   "metadata": {},
   "source": [
    "## Content-Based Filtering\n"
   ]
  },
  {
   "cell_type": "markdown",
   "metadata": {},
   "source": [
    "We want to build a system that recommends movies that are similar to a particular movie. We will use the plot descriptions as well as other metadata to create content-based recommendations."
   ]
  },
  {
   "cell_type": "markdown",
   "metadata": {},
   "source": [
    "> ### Creating Features from Plot Descriptions\n",
    "> To use the `plot_keywords` for content-based filtering, we first have to convert them into numeric features. Use what we learned about TF-IDF in the last class to create new features based on the plot keywords."
   ]
  },
  {
   "cell_type": "code",
   "execution_count": 1,
   "metadata": {
    "collapsed": true
   },
   "outputs": [],
   "source": [
    "# Read in the dataset\n",
    "path = r'C:\\Users\\user\\DS-SF-41\\data\\movie_metadata.csv'"
   ]
  },
  {
   "cell_type": "markdown",
   "metadata": {},
   "source": [
    "> Replace the '`|`' in `plot_keywords` with a blank string (i.e. ' ')"
   ]
  },
  {
   "cell_type": "code",
   "execution_count": 3,
   "metadata": {},
   "outputs": [
    {
     "data": {
      "text/plain": [
       "0                  avatar future marine native paraplegic\n",
       "1       goddess marriage ceremony marriage proposal pi...\n",
       "2                     bomb espionage sequel spy terrorist\n",
       "3       deception imprisonment lawlessness police offi...\n",
       "4                                                     NaN\n",
       "5       alien american civil war male nipple mars prin...\n",
       "6               sandman spider man symbiote venom villain\n",
       "7       17th century based on fairy tale disney flower...\n",
       "8       artificial intelligence based on comic book ca...\n",
       "9                        blood book love potion professor\n",
       "10      based on comic book batman sequel to a reboot ...\n",
       "11      crystal epic lex luthor lois lane return to earth\n",
       "12      action hero attempted rape bond girl official ...\n",
       "13      box office hit giant squid heart liar's dice m...\n",
       "14                  horse outlaw texas texas ranger train\n",
       "15      based on comic book british actor playing amer...\n",
       "16      brother brother relationship brother sister re...\n",
       "17        alien invasion assassin battle iron man soldier\n",
       "18              blackbeard captain pirate revenge soldier\n",
       "19      alien criminal m.i.b. maximum security prison ...\n",
       "20                       army elf hobbit middle earth orc\n",
       "21              lizard outcast spider spider man teenager\n",
       "22        1190s archer england king of england robin hood\n",
       "23         dwarf elf lake town mountain sword and sorcery\n",
       "24                        children epic friend girl quest\n",
       "25      animal name in title ape abducts a woman goril...\n",
       "26                           artist love ship titanic wet\n",
       "27      based on comic book knife marvel cinematic uni...\n",
       "28          box office flop hawaii naval oahu hawaii ship\n",
       "29      dinosaur disaster film experiment gone wrong j...\n",
       "                              ...                        \n",
       "5013    ex convict graduation manhattan new york city ...\n",
       "5014       death first part killing spree massacre murder\n",
       "5015    austin texas moon pap smear texas twenty somet...\n",
       "5016                                                  NaN\n",
       "5017    anti romantic comedy dating divorce sex comedy...\n",
       "5018    baby car salesman christian film pregnancy use...\n",
       "5019                   asylum demon party secret teenager\n",
       "5020                 avatar college death tron university\n",
       "5021        birthday gift motel new york city upholsterer\n",
       "5022                                                  NaN\n",
       "5023                                                  NaN\n",
       "5024      arch villain game of death kidnapping superhero\n",
       "5025         absurd humor egg gross out humor lesbian sex\n",
       "5026                       jail junkie money motel singer\n",
       "5027            abortion bus hospital prison prostitution\n",
       "5028                                                  NaN\n",
       "5029    breasts interrogation investigation murder wat...\n",
       "5030    gang initiation gunplay hazing latino shakespe...\n",
       "5031        nudity party pirate swimsuit three word title\n",
       "5032    corruption homeless homeless man motorcycle ur...\n",
       "5033    changing the future independent film invention...\n",
       "5034    jihad mindanao philippines security guard squa...\n",
       "5035                   assassin death guitar gun mariachi\n",
       "5036          jewell mongol nostradamus stepnicka vallone\n",
       "5037                  written and directed by cast member\n",
       "5038               fraud postal worker prison theft trial\n",
       "5039         cult fbi hideout prison escape serial killer\n",
       "5040                                                  NaN\n",
       "5041                                                  NaN\n",
       "5042    actress name in title crush date four word tit...\n",
       "Name: plot_keywords, Length: 5043, dtype: object"
      ]
     },
     "execution_count": 3,
     "metadata": {},
     "output_type": "execute_result"
    }
   ],
   "source": [
    "df = pd.read_csv(path)\n",
    "df.head()\n",
    "df.plot_keywords = df.plot_keywords.str.replace(\"|\",\" \")\n",
    "df['plot_keywords']"
   ]
  },
  {
   "cell_type": "markdown",
   "metadata": {},
   "source": [
    "> Replace '`\\xc2\\xa0`' in `movie_title` with an empty string (i.e. '')"
   ]
  },
  {
   "cell_type": "code",
   "execution_count": 32,
   "metadata": {
    "collapsed": true
   },
   "outputs": [],
   "source": [
    "df.movie_title = df.movie_title.str.replace('\\xc2\\xa0','')\n"
   ]
  },
  {
   "cell_type": "markdown",
   "metadata": {},
   "source": [
    "> Use `TfidfVectorizer` to generate features from `plot_keywords`"
   ]
  },
  {
   "cell_type": "code",
   "execution_count": 45,
   "metadata": {},
   "outputs": [
    {
     "data": {
      "text/plain": [
       "(5043, 5997)"
      ]
     },
     "execution_count": 45,
     "metadata": {},
     "output_type": "execute_result"
    }
   ],
   "source": [
    "from sklearn.feature_extraction.text import TfidfVectorizer\n",
    "\n",
    "pWords = df['plot_keywords'].fillna('')\n",
    "\n",
    "cls = TfidfVectorizer(\n",
    "    stop_words='english',\n",
    ")\n",
    "\n",
    "cls.fit(pWords)\n",
    "\n",
    "X = cls.transform(pWords)\n",
    "\n",
    "X.shape"
   ]
  },
  {
   "cell_type": "markdown",
   "metadata": {},
   "source": [
    "> With this matrix in hand, you can now compute a similarity score. There are several candidates for this, but the most popular is the cosine similarity score. It is a numerical quantity that denotes the similarity between two movies.\n",
    "\n",
    "> Use `cosine_similarity` to compute the cosine similarity scores and store them in `similarities`"
   ]
  },
  {
   "cell_type": "code",
   "execution_count": null,
   "metadata": {
    "collapsed": true
   },
   "outputs": [],
   "source": [
    "from sklearn.metrics.pairwise import cosine_similarity"
   ]
  },
  {
   "cell_type": "markdown",
   "metadata": {},
   "source": [
    "> Now use this function to get the top recommendations based on a given movie"
   ]
  },
  {
   "cell_type": "code",
   "execution_count": null,
   "metadata": {
    "collapsed": true
   },
   "outputs": [],
   "source": [
    "def get_top_recommendations(movie, top_n=10):\n",
    "    \n",
    "    # Get the index of the movie we care about\n",
    "    try:\n",
    "        index = df[df['movie_title'] == movie].index[0]\n",
    "    except IndexError:\n",
    "        raise Exception('\"{}\" not found in list of known movies!'.format(movie))\n",
    "    \n",
    "    # Find the top n most similar movies and return their titles\n",
    "    recs = similarities.iloc[index, :].transpose().drop(index).sort_values(ascending=False).head(top_n).index\n",
    "    return df.iloc[recs, :]['movie_title']"
   ]
  },
  {
   "cell_type": "markdown",
   "metadata": {},
   "source": [
    "## Collaborative Filtering"
   ]
  },
  {
   "cell_type": "markdown",
   "metadata": {},
   "source": [
    "> ### Using Suprise\n",
    "> Surprise is a Python scikit building and analyzing recommender systems.\n",
    "> http://surpriselib.com/"
   ]
  },
  {
   "cell_type": "code",
   "execution_count": null,
   "metadata": {
    "collapsed": true
   },
   "outputs": [],
   "source": [
    "from surprise import SVD\n",
    "from surprise import Dataset\n",
    "from surprise.model_selection import cross_validate\n",
    "\n",
    "# Load the movielens-100k dataset (download it if needed).\n",
    "data = Dataset.load_builtin('ml-100k').build_full_trainset()\n",
    "\n",
    "# Use the famous SVD algorithm.\n",
    "algo = SVD()\n",
    "\n",
    "algo.fit(data)"
   ]
  },
  {
   "cell_type": "code",
   "execution_count": null,
   "metadata": {
    "collapsed": true
   },
   "outputs": [],
   "source": [
    "uid = str(196)  # raw user id (as in the ratings file)\n",
    "iid = str(302)  # raw item id (as in the ratings file)\n",
    "\n",
    "# Get a prediction for specific users and items.\n",
    "pred = algo.predict(uid, iid, r_ui=4, verbose=True)"
   ]
  },
  {
   "cell_type": "code",
   "execution_count": null,
   "metadata": {
    "collapsed": true
   },
   "outputs": [],
   "source": []
  }
 ],
 "metadata": {
  "kernelspec": {
   "display_name": "Python 2",
   "language": "python",
   "name": "python2"
  },
  "language_info": {
   "codemirror_mode": {
    "name": "ipython",
    "version": 2
   },
   "file_extension": ".py",
   "mimetype": "text/x-python",
   "name": "python",
   "nbconvert_exporter": "python",
   "pygments_lexer": "ipython2",
   "version": "2.7.13"
  }
 },
 "nbformat": 4,
 "nbformat_minor": 2
}
